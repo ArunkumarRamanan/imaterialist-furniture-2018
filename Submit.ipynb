{
 "cells": [
  {
   "cell_type": "code",
   "execution_count": 1,
   "metadata": {},
   "outputs": [],
   "source": [
    "%load_ext autoreload\n",
    "%autoreload 2\n",
    "%matplotlib inline\n",
    "\n",
    "import os\n",
    "import json\n",
    "\n",
    "import torch\n",
    "import torch.nn.functional as F\n",
    "from torch.autograd import Variable\n",
    "import numpy as np\n",
    "import pandas as pd\n",
    "import matplotlib.pyplot as plt\n",
    "from scipy.stats.mstats import gmean\n",
    "import seaborn as sns; sns.set_style(\"whitegrid\")\n",
    "\n",
    "from misc import FurnitureDataset, preprocess"
   ]
  },
  {
   "cell_type": "code",
   "execution_count": 2,
   "metadata": {},
   "outputs": [],
   "source": [
    "train_json = json.load(open('data/train.json'))\n",
    "train_df_0 = pd.DataFrame(train_json['annotations'])\n",
    "train_df_1 = pd.DataFrame(train_json['images'])\n",
    "train_df = pd.merge(train_df_0, train_df_1)"
   ]
  },
  {
   "cell_type": "code",
   "execution_count": 3,
   "metadata": {},
   "outputs": [],
   "source": [
    "paths = []\n",
    "val_pred1 = torch.load('inceptionv4_val_prediction.pth', map_location={'cuda:0': 'cpu'})\n",
    "val_pred2 = torch.load('densenet161_val_prediction.pth', map_location={'cuda:0': 'cpu'})\n",
    "val_pred3 = torch.load('densenet201_val_prediction.pth', map_location={'cuda:0': 'cpu'})\n",
    "val_pred4 = torch.load('inceptionresnetv2_val_prediction.pth', map_location={'cuda:0': 'cpu'})\n",
    "val_pred5 = torch.load('xception_val_prediction.pth', map_location={'cuda:0': 'cpu'})\n",
    "val_prob = F.softmax(Variable(torch.cat((\n",
    "    val_pred1['px'],\n",
    "    val_pred2['px'],\n",
    "    val_pred3['px'],\n",
    "    val_pred4['px'],\n",
    "    val_pred5['px'],\n",
    "), dim=2)), dim=1).data.numpy()"
   ]
  },
  {
   "cell_type": "code",
   "execution_count": 4,
   "metadata": {},
   "outputs": [],
   "source": [
    "val_prob = gmean(val_prob, axis=2)\n",
    "val_pred = np.argmax(val_prob, axis=1)"
   ]
  },
  {
   "cell_type": "code",
   "execution_count": 5,
   "metadata": {},
   "outputs": [],
   "source": [
    "def calibrate_prob(positive_prob_train, positive_prob_test, prob):\n",
    "    return (positive_prob_test * prob) / (positive_prob_test * prob + positive_prob_train * (1 - prob))\n",
    "\n",
    "def calibrate_probs(prob):\n",
    "    nb_train = train_df.shape[0]\n",
    "    for class_ in range(128):\n",
    "        nb_positive_train = ((train_df.label_id - 1) == class_).sum()\n",
    "\n",
    "        positive_prob_train = nb_positive_train / nb_train\n",
    "        positive_prob_test = 1 / 128 # balanced class distribution \n",
    "        for i in range(prob.shape[0]):\n",
    "            old_p = prob[i, class_]\n",
    "            new_p = calibrate_prob(positive_prob_train, positive_prob_test, old_p)\n",
    "            prob[i, class_] = new_p"
   ]
  },
  {
   "cell_type": "code",
   "execution_count": 6,
   "metadata": {},
   "outputs": [],
   "source": [
    "calibrate_probs(val_prob)"
   ]
  },
  {
   "cell_type": "code",
   "execution_count": 7,
   "metadata": {},
   "outputs": [
    {
     "data": {
      "text/plain": [
       "0.11982364981892615"
      ]
     },
     "execution_count": 7,
     "metadata": {},
     "output_type": "execute_result"
    }
   ],
   "source": [
    "# Score before calibration\n",
    "np.mean(val_pred != val_pred1['lx'].numpy())"
   ]
  },
  {
   "cell_type": "code",
   "execution_count": 8,
   "metadata": {},
   "outputs": [
    {
     "data": {
      "text/plain": [
       "0.11541489529207999"
      ]
     },
     "execution_count": 8,
     "metadata": {},
     "output_type": "execute_result"
    }
   ],
   "source": [
    "# Score after calibration\n",
    "np.mean(np.argmax(val_prob, axis=1) != val_pred1['lx'].numpy())"
   ]
  },
  {
   "cell_type": "code",
   "execution_count": 9,
   "metadata": {},
   "outputs": [
    {
     "data": {
      "image/png": "[encoded data removed]",
      "text/plain": [
       "<matplotlib.figure.Figure at 0x1a1e3e7438>"
      ]
     },
     "metadata": {},
     "output_type": "display_data"
    }
   ],
   "source": [
    "f, (ax0, ax1, ax2, ax3) = plt.subplots(1, 4, sharey=True, figsize=(15, 5))\n",
    "pd.DataFrame(train_df.label_id.value_counts()).hist(ax=ax0)\n",
    "ax0.set_title('Train')\n",
    "\n",
    "pd.Series(val_pred1['lx'].numpy()).value_counts().hist(ax=ax1)\n",
    "ax1.set_title('Val Ideal')\n",
    "\n",
    "pd.Series(val_pred).value_counts().hist(ax=ax2)\n",
    "ax2.set_title('Raw val prediction')\n",
    "\n",
    "pd.DataFrame(np.argmax(val_prob, axis=1))[0].value_counts().hist(ax=ax3)\n",
    "ax3.set_title('Calibrated val prediction')\n",
    "f;"
   ]
  },
  {
   "cell_type": "markdown",
   "metadata": {},
   "source": [
    "# Test prediction"
   ]
  },
  {
   "cell_type": "code",
   "execution_count": 10,
   "metadata": {},
   "outputs": [],
   "source": [
    "test_pred1 = torch.load('inceptionv4_test_prediction.pth', map_location={'cuda:0': 'cpu'})\n",
    "test_pred2 = torch.load('densenet161_test_prediction.pth', map_location={'cuda:0': 'cpu'})\n",
    "test_pred3 = torch.load('densenet201_test_prediction.pth', map_location={'cuda:0': 'cpu'})\n",
    "test_pred4 = torch.load('inceptionresnetv2_test_prediction.pth', map_location={'cuda:0': 'cpu'})\n",
    "test_pred5 = torch.load('xception_test_prediction.pth', map_location={'cuda:0': 'cpu'})"
   ]
  },
  {
   "cell_type": "code",
   "execution_count": 11,
   "metadata": {},
   "outputs": [],
   "source": [
    "test_prob = F.softmax(Variable(torch.cat((\n",
    "    test_pred1['px'],\n",
    "    test_pred2['px'],\n",
    "    test_pred3['px'],\n",
    "    test_pred4['px'],\n",
    "    test_pred5['px'],\n",
    "), dim=2)), dim=1).data.numpy()"
   ]
  },
  {
   "cell_type": "code",
   "execution_count": 12,
   "metadata": {},
   "outputs": [
    {
     "data": {
      "text/plain": [
       "(12688, 128)"
      ]
     },
     "execution_count": 12,
     "metadata": {},
     "output_type": "execute_result"
    }
   ],
   "source": [
    "test_prob = gmean(test_prob, axis=2)\n",
    "test_prob.shape"
   ]
  },
  {
   "cell_type": "code",
   "execution_count": 13,
   "metadata": {},
   "outputs": [],
   "source": [
    "test_predicted = np.argmax(test_prob, axis=1) + 1"
   ]
  },
  {
   "cell_type": "code",
   "execution_count": 14,
   "metadata": {},
   "outputs": [],
   "source": [
    "calibrate_probs(test_prob)\n",
    "calibrated_predicted = np.argmax(test_prob, axis=1) + 1"
   ]
  },
  {
   "cell_type": "code",
   "execution_count": 15,
   "metadata": {},
   "outputs": [
    {
     "data": {
      "image/png": "[encoded data removed]",
      "text/plain": [
       "<matplotlib.figure.Figure at 0x1a1e3d0ba8>"
      ]
     },
     "metadata": {},
     "output_type": "display_data"
    }
   ],
   "source": [
    "f, (ax0, ax1) = plt.subplots(1, 2, sharey=True, figsize=(15, 5))\n",
    "pd.Series(test_predicted).value_counts().hist(ax=ax0)\n",
    "ax0.set_title('Before')\n",
    "\n",
    "pd.Series(calibrated_predicted).value_counts().hist(ax=ax1)\n",
    "ax1.set_title('After')\n",
    "f;"
   ]
  },
  {
   "cell_type": "code",
   "execution_count": 16,
   "metadata": {},
   "outputs": [
    {
     "name": "stdout",
     "output_type": "stream",
     "text": [
      "[+] dataset `test` loaded 0 images from 12800\n"
     ]
    }
   ],
   "source": [
    "test_dataset = FurnitureDataset('test', transform=preprocess)\n",
    "sx = pd.read_csv('data/sample_submission_randomlabel.csv')\n",
    "sx.loc[sx.id.isin(test_dataset.data.image_id), 'predicted'] = calibrated_predicted\n",
    "sx.to_csv('sx_calibrated.csv', index=False)"
   ]
  }
 ],
 "metadata": {
  "kernelspec": {
   "display_name": "Python 3",
   "language": "python",
   "name": "python3"
  },
  "language_info": {
   "codemirror_mode": {
    "name": "ipython",
    "version": 3
   },
   "file_extension": ".py",
   "mimetype": "text/x-python",
   "name": "python",
   "nbconvert_exporter": "python",
   "pygments_lexer": "ipython3",
   "version": "3.6.4"
  }
 },
 "nbformat": 4,
 "nbformat_minor": 2
}
